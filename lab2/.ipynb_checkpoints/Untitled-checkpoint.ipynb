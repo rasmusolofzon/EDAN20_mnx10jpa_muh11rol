{
 "cells": [
  {
   "cell_type": "markdown",
   "metadata": {},
   "source": [
    "# Assignment 2: Language Models\n",
    "## Collecting a corpus"
   ]
  },
  {
   "cell_type": "code",
   "execution_count": 11,
   "metadata": {
    "scrolled": true
   },
   "outputs": [],
   "source": [
    "selma = open(\"selma.txt\", 'r', encoding='utf-8')"
   ]
  },
  {
   "cell_type": "code",
   "execution_count": 4,
   "metadata": {},
   "outputs": [
    {
     "name": "stdout",
     "output_type": "stream",
     "text": [
      "<class '_io.TextIOWrapper'>\n"
     ]
    }
   ],
   "source": [
    "print(type(selma))"
   ]
  },
  {
   "cell_type": "markdown",
   "metadata": {},
   "source": [
    "### Concordance 1"
   ]
  },
  {
   "cell_type": "code",
   "execution_count": null,
   "metadata": {},
   "outputs": [],
   "source": [
    "\"\"\"\n",
    "Concordance program to find all the concordances\n",
    "of a pattern surrounded by width characters.\n",
    "Usage: python concord.py file pattern width\n",
    "\"\"\"\n",
    "__author__ = \"Pierre Nugues\"\n",
    "\n",
    "import re\n",
    "import sys\n",
    "\n",
    "[file_name, pattern, width] = sys.argv[1:]\n",
    "try:\n",
    "    file = open(file_name)\n",
    "except:\n",
    "    print(\"Could not open file\", file_name)\n",
    "    exit(0)\n",
    "\n",
    "text = file.read()\n",
    "\n",
    "# Let spaces match across _and print_ newlines\n",
    "pattern = re.sub(\" \", r\"\\\\s+\", pattern)\n",
    "text = re.sub(r\"\\s+\", \" \", text)  # Uncomment this to match/print newlines as spaces\n",
    "pattern = \"(.{{0,{width}}}{pattern}.{{0,{width}}})\".format(pattern=pattern, width=width)\n",
    "for match in re.finditer(pattern, text):\n",
    "    print(match.group(1))\n",
    "# print the string with 0..width characters on either side"
   ]
  },
  {
   "cell_type": "markdown",
   "metadata": {},
   "source": [
    "### Concordance 2"
   ]
  },
  {
   "cell_type": "code",
   "execution_count": null,
   "metadata": {
    "collapsed": true
   },
   "outputs": [],
   "source": [
    "\"\"\"\n",
    "Concordances where the right context uses a lookahead\n",
    "This is to avoid advancing the matching start index past a concordance\n",
    "if the distance between two concordances is less than the context size,\n",
    "for instance less than 20 characters apart\n",
    "python3 concord2.py helenus.txt 'Helenus' 20\n",
    "\"\"\"\n",
    "__author__ = \"Pierre Nugues\"\n",
    "\n",
    "import re\n",
    "import sys\n",
    "\n",
    "[file_name, pattern, width] = sys.argv[1:]\n",
    "try:\n",
    "    file = open(file_name)\n",
    "except:\n",
    "    print(\"Could not open file\", file_name)\n",
    "    exit(0)\n",
    "\n",
    "text = file.read()\n",
    "\n",
    "# Let spaces match across _and print_ newlines\n",
    "pattern = re.sub(\" \", r\"\\\\s+\", pattern)\n",
    "text = re.sub(r\"\\s+\", \" \", text)  # Uncomment this to match/print newlines as spaces\n",
    "pattern = \"(.{{0,{width}}})({pattern})(?=(.{{0,{width}}}))\".format(pattern=pattern, width=width)\n",
    "for match in re.finditer(pattern, text):\n",
    "    print(match.group(1), match.group(2), match.group(3))\n",
    "# print the string with 0..width characters on either side"
   ]
  },
  {
   "cell_type": "code",
   "execution_count": null,
   "metadata": {
    "collapsed": true
   },
   "outputs": [],
   "source": [
    "%%time\n",
    "import time\n",
    "for _ in range(1000):\n",
    "    time.sleep(0.01)# sleep for 0.01 seconds"
   ]
  },
  {
   "cell_type": "code",
   "execution_count": null,
   "metadata": {
    "collapsed": true
   },
   "outputs": [],
   "source": []
  }
 ],
 "metadata": {
  "kernelspec": {
   "display_name": "Python 3",
   "language": "python",
   "name": "python3"
  },
  "language_info": {
   "codemirror_mode": {
    "name": "ipython",
    "version": 3
   },
   "file_extension": ".py",
   "mimetype": "text/x-python",
   "name": "python",
   "nbconvert_exporter": "python",
   "pygments_lexer": "ipython3",
   "version": "3.6.1"
  }
 },
 "nbformat": 4,
 "nbformat_minor": 2
}
